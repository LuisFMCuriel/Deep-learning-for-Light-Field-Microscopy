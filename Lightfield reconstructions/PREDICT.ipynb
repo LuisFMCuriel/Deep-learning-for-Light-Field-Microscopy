{
 "cells": [
  {
   "cell_type": "code",
   "execution_count": 1,
   "metadata": {},
   "outputs": [
    {
     "name": "stdout",
     "output_type": "stream",
     "text": [
      "WARNING:tensorflow:From G:\\Drive_F\\VCD-Net-main\\vcdnet\\tensorlayer\\layers\\core.py:43: The name tf.GraphKeys is deprecated. Please use tf.compat.v1.GraphKeys instead.\n",
      "\n",
      "WARNING:tensorflow:From G:\\Drive_F\\VCD-Net-main\\vcdnet\\tensorlayer\\layers\\pooling.py:59: The name tf.nn.max_pool is deprecated. Please use tf.nn.max_pool2d instead.\n",
      "\n",
      "Parameters defined in config.py:\n",
      "PSF related: \n",
      "    n_slices                         31                            \n",
      "    Nnum                             11                            \n",
      "Prediction related: \n",
      "    ckpt_dir                         ./checkpoint/MSB108muscle(G)40xdof30z1_dx29,80_range0,3_3500um_OSR5/\n",
      "    lf2d_path                        ./data/to_predict/            \n",
      "    saving_path                      ./results/VCD_MSB108muscle(G)40xdof30z1_dx29,80_range0,3_3500um_OSR5/\n"
     ]
    }
   ],
   "source": [
    "from eval import *\n",
    "import numpy as np\n",
    "import warnings\n",
    "warnings.filterwarnings('ignore')\n",
    "\n",
    "print(\"Parameters defined in config.py:\")\n",
    "print(\"PSF related: \")\n",
    "for par, val in config.PSF.items():\n",
    "    print('    {:<30}   {:<30}'.format(par,val))\n",
    "        \n",
    "print(\"Prediction related: \")\n",
    "for par, val in config.VALID.items():\n",
    "    print('    {:<30}   {:<30}'.format(par,val))\n",
    "    \n",
    "# save np.load\n",
    "np_load_old = np.load\n",
    "\n",
    "# modify the default parameters of np.load\n",
    "np.load = lambda *a,**k: np_load_old(*a, allow_pickle=True, **k)"
   ]
  },
  {
   "cell_type": "code",
   "execution_count": 2,
   "metadata": {},
   "outputs": [
    {
     "name": "stderr",
     "output_type": "stream",
     "text": [
      "[TL] [!] ./results/VCD_MSB108muscle(G)40xdof30z1_dx29,80_range0,3_3500um_OSR5/ exists ...\n"
     ]
    },
    {
     "name": "stdout",
     "output_type": "stream",
     "text": [
      "read 2 from ./data/to_predict/\n",
      "WARNING:tensorflow:From G:\\Drive_F\\VCD-Net-main\\vcdnet\\eval.py:65: The name tf.placeholder is deprecated. Please use tf.compat.v1.placeholder instead.\n",
      "\n",
      "WARNING:tensorflow:From G:\\Drive_F\\VCD-Net-main\\vcdnet\\model\\unet.py:56: The name tf.variable_scope is deprecated. Please use tf.compat.v1.variable_scope instead.\n",
      "\n",
      "WARNING:tensorflow:From G:\\Drive_F\\VCD-Net-main\\vcdnet\\tensorlayer\\layers\\core.py:386: The name tf.get_variable_scope is deprecated. Please use tf.compat.v1.get_variable_scope instead.\n",
      "\n"
     ]
    },
    {
     "name": "stderr",
     "output_type": "stream",
     "text": [
      "[TL] InputLayer  unet/lf_extra: (1, 41, 74, 121)\n",
      "[TL] Conv2dLayer unet/conv1: shape:(7, 7, 121, 128) strides:(1, 1, 1, 1) pad:SAME act:identity\n"
     ]
    },
    {
     "name": "stdout",
     "output_type": "stream",
     "text": [
      "WARNING:tensorflow:From G:\\Drive_F\\VCD-Net-main\\vcdnet\\tensorlayer\\layers\\convolution.py:203: The name tf.get_variable is deprecated. Please use tf.compat.v1.get_variable instead.\n",
      "\n"
     ]
    },
    {
     "name": "stderr",
     "output_type": "stream",
     "text": [
      "[TL] SubpixelConv2d  interp/subpixel0: scale: 2 n_out_channel: 32 act: identity\n"
     ]
    },
    {
     "name": "stdout",
     "output_type": "stream",
     "text": [
      "WARNING:tensorflow:From G:\\Drive_F\\VCD-Net-main\\vcdnet\\tensorlayer\\layers\\super_resolution.py:89: The name tf.depth_to_space is deprecated. Please use tf.compat.v1.depth_to_space instead.\n",
      "\n"
     ]
    },
    {
     "name": "stderr",
     "output_type": "stream",
     "text": [
      "[TL] Conv2dLayer unet/interp/conv0: shape:(3, 3, 32, 64) strides:(1, 1, 1, 1) pad:SAME act:identity\n",
      "[TL] SubpixelConv2d  interp/subpixel1: scale: 2 n_out_channel: 16 act: identity\n",
      "[TL] Conv2dLayer unet/interp/conv1: shape:(3, 3, 16, 32) strides:(1, 1, 1, 1) pad:SAME act:identity\n",
      "[TL] SubpixelConv2d  interp/subpixel2: scale: 2 n_out_channel: 8 act: identity\n",
      "[TL] Conv2dLayer unet/interp/conv2: shape:(3, 3, 8, 16) strides:(1, 1, 1, 1) pad:SAME act:identity\n",
      "[TL] SubpixelConv2d  interp/subpixel3: scale: 2 n_out_channel: 4 act: identity\n",
      "[TL] Conv2dLayer unet/interp/conv3: shape:(3, 3, 4, 8) strides:(1, 1, 1, 1) pad:SAME act:identity\n",
      "[TL] Conv2dLayer unet/interp/conv_final: shape:(3, 3, 8, 8) strides:(1, 1, 1, 1) pad:SAME act:identity\n",
      "[TL] BatchNormLayer unet/interp/bn_final: decay:0.900000 epsilon:0.000010 act:identity is_train:True\n",
      "[TL] Conv2dLayer unet/encoder/conv0: shape:(3, 3, 8, 64) strides:(1, 1, 1, 1) pad:SAME act:identity\n",
      "[TL] BatchNormLayer unet/encoder/bn_0: decay:0.900000 epsilon:0.000010 act:identity is_train:True\n",
      "[TL] Conv2dLayer unet/encoder/conv1: shape:(3, 3, 64, 128) strides:(1, 1, 1, 1) pad:SAME act:identity\n",
      "[TL] BatchNormLayer unet/encoder/bn1: decay:0.900000 epsilon:0.000010 act:identity is_train:True\n",
      "[TL] ElementwiseLayer unet/encoder/add1: size:(1, 656, 1184, 128) fn:add\n",
      "[TL] PoolLayer   unet/encoder/maxplool1: ksize:[1, 3, 3, 1] strides:[1, 2, 2, 1] padding:SAME pool:max_pool\n",
      "[TL] Conv2dLayer unet/encoder/conv2: shape:(3, 3, 128, 256) strides:(1, 1, 1, 1) pad:SAME act:identity\n",
      "[TL] BatchNormLayer unet/encoder/bn2: decay:0.900000 epsilon:0.000010 act:identity is_train:True\n"
     ]
    },
    {
     "name": "stdout",
     "output_type": "stream",
     "text": [
      "encoder 0 : (1, 656, 1184, 64)\n",
      "(1, 656, 1184, 64)\n",
      "(1, 656, 1184, 64) (1, 656, 1184, 64)\n",
      "encoder 1 : (1, 328, 592, 128)\n",
      "(1, 328, 592, 128)\n",
      "(1, 328, 592, 128) (1, 328, 592, 128)\n"
     ]
    },
    {
     "name": "stderr",
     "output_type": "stream",
     "text": [
      "[TL] ElementwiseLayer unet/encoder/add2: size:(1, 328, 592, 256) fn:add\n",
      "[TL] PoolLayer   unet/encoder/maxplool2: ksize:[1, 3, 3, 1] strides:[1, 2, 2, 1] padding:SAME pool:max_pool\n",
      "[TL] Conv2dLayer unet/encoder/conv3: shape:(3, 3, 256, 512) strides:(1, 1, 1, 1) pad:SAME act:identity\n",
      "[TL] BatchNormLayer unet/encoder/bn3: decay:0.900000 epsilon:0.000010 act:identity is_train:True\n",
      "[TL] ElementwiseLayer unet/encoder/add3: size:(1, 164, 296, 512) fn:add\n",
      "[TL] PoolLayer   unet/encoder/maxplool3: ksize:[1, 3, 3, 1] strides:[1, 2, 2, 1] padding:SAME pool:max_pool\n",
      "[TL] Conv2dLayer unet/encoder/conv4: shape:(3, 3, 512, 512) strides:(1, 1, 1, 1) pad:SAME act:identity\n",
      "[TL] BatchNormLayer unet/encoder/bn4: decay:0.900000 epsilon:0.000010 act:identity is_train:True\n",
      "[TL] ElementwiseLayer unet/encoder/add4: size:(1, 82, 148, 512) fn:add\n",
      "[TL] PoolLayer   unet/encoder/maxplool4: ksize:[1, 3, 3, 1] strides:[1, 2, 2, 1] padding:SAME pool:max_pool\n",
      "[TL] Conv2dLayer unet/encoder/conv5: shape:(3, 3, 512, 512) strides:(1, 1, 1, 1) pad:SAME act:identity\n",
      "[TL] BatchNormLayer unet/encoder/bn5: decay:0.900000 epsilon:0.000010 act:identity is_train:True\n"
     ]
    },
    {
     "name": "stdout",
     "output_type": "stream",
     "text": [
      "encoder 2 : (1, 164, 296, 256)\n",
      "(1, 164, 296, 256)\n",
      "(1, 164, 296, 256) (1, 164, 296, 256)\n",
      "encoder 3 : (1, 82, 148, 512)\n",
      "(1, 82, 148, 512)\n",
      "(1, 82, 148, 512) (1, 82, 148, 0)\n",
      "encoder 4 : (1, 41, 74, 512)\n"
     ]
    },
    {
     "name": "stderr",
     "output_type": "stream",
     "text": [
      "[TL] ElementwiseLayer unet/encoder/add5: size:(1, 41, 74, 512) fn:add\n",
      "[TL] PoolLayer   unet/encoder/maxplool5: ksize:[1, 3, 3, 1] strides:[1, 2, 2, 1] padding:SAME pool:max_pool\n",
      "[TL] UpSampling2dLayer upsamplimg: is_scale:False size:(41, 74) method:0 align_corners:False\n"
     ]
    },
    {
     "name": "stdout",
     "output_type": "stream",
     "text": [
      "(1, 41, 74, 512)\n",
      "(1, 41, 74, 512) (1, 41, 74, 0)\n",
      "WARNING:tensorflow:From G:\\Drive_F\\VCD-Net-main\\vcdnet\\tensorlayer\\layers\\convolution.py:538: The name tf.image.resize_images is deprecated. Please use tf.image.resize instead.\n",
      "\n"
     ]
    },
    {
     "name": "stderr",
     "output_type": "stream",
     "text": [
      "[TL] ConcatLayer unet/decoder/concat1: axis: -1\n",
      "[TL] Conv2dLayer unet/decoder/conv2: shape:(3, 3, 1024, 512) strides:(1, 1, 1, 1) pad:SAME act:identity\n",
      "[TL] BatchNormLayer unet/decoder/bn2: decay:0.900000 epsilon:0.000010 act:identity is_train:True\n",
      "[TL] UpSampling2dLayer upsamplimg2: is_scale:False size:(82, 148) method:0 align_corners:False\n",
      "[TL] ConcatLayer unet/decoder/concat2: axis: -1\n",
      "[TL] Conv2dLayer unet/decoder/conv3: shape:(3, 3, 1024, 512) strides:(1, 1, 1, 1) pad:SAME act:identity\n",
      "[TL] BatchNormLayer unet/decoder/bn3: decay:0.900000 epsilon:0.000010 act:identity is_train:True\n",
      "[TL] UpSampling2dLayer upsamplimg3: is_scale:False size:(164, 296) method:0 align_corners:False\n",
      "[TL] ConcatLayer unet/decoder/concat3: axis: -1\n",
      "[TL] Conv2dLayer unet/decoder/conv4: shape:(3, 3, 768, 256) strides:(1, 1, 1, 1) pad:SAME act:identity\n"
     ]
    },
    {
     "name": "stdout",
     "output_type": "stream",
     "text": [
      "decoder 4 : (1, 41, 74, 512)\n",
      "decoder 3 : (1, 82, 148, 512)\n",
      "decoder 2 : (1, 164, 296, 512)\n"
     ]
    },
    {
     "name": "stderr",
     "output_type": "stream",
     "text": [
      "[TL] BatchNormLayer unet/decoder/bn4: decay:0.900000 epsilon:0.000010 act:identity is_train:True\n",
      "[TL] UpSampling2dLayer upsamplimg4: is_scale:False size:(328, 592) method:0 align_corners:False\n",
      "[TL] ConcatLayer unet/decoder/concat4: axis: -1\n",
      "[TL] Conv2dLayer unet/decoder/conv5: shape:(3, 3, 384, 128) strides:(1, 1, 1, 1) pad:SAME act:identity\n",
      "[TL] BatchNormLayer unet/decoder/bn5: decay:0.900000 epsilon:0.000010 act:identity is_train:True\n",
      "[TL] UpSampling2dLayer upsamplimg5: is_scale:False size:(656, 1184) method:0 align_corners:False\n",
      "[TL] ConcatLayer unet/decoder/concat5: axis: -1\n",
      "[TL] Conv2dLayer unet/decoder/conv6: shape:(3, 3, 192, 31) strides:(1, 1, 1, 1) pad:SAME act:identity\n",
      "[TL] BatchNormLayer unet/decoder/bn6: decay:0.900000 epsilon:0.000010 act:identity is_train:True\n",
      "[TL] UpSampling2dLayer upsamplimg6: is_scale:False size:(656, 1184) method:0 align_corners:False\n",
      "[TL] UpSampling2dLayer resize_final: is_scale:False size:[451, 814] method:0 align_corners:False\n"
     ]
    },
    {
     "name": "stdout",
     "output_type": "stream",
     "text": [
      "decoder 1 : (1, 328, 592, 256)\n",
      "decoder 0 : (1, 656, 1184, 128)\n",
      "WARNING:tensorflow:From G:\\Drive_F\\VCD-Net-main\\vcdnet\\eval.py:81: The name tf.Session is deprecated. Please use tf.compat.v1.Session instead.\n",
      "\n",
      "WARNING:tensorflow:From G:\\Drive_F\\VCD-Net-main\\vcdnet\\eval.py:81: The name tf.ConfigProto is deprecated. Please use tf.compat.v1.ConfigProto instead.\n",
      "\n",
      "WARNING:tensorflow:From G:\\Drive_F\\VCD-Net-main\\vcdnet\\tensorlayer\\layers\\core.py:315: The name tf.global_variables_initializer is deprecated. Please use tf.compat.v1.global_variables_initializer instead.\n",
      "\n",
      "loading ./checkpoint/MSB108muscle(G)40xdof30z1_dx29,80_range0,3_3500um_OSR5//vcdnet_best.npz\n"
     ]
    },
    {
     "name": "stderr",
     "output_type": "stream",
     "text": [
      "[TL] [*] Load ./checkpoint/MSB108muscle(G)40xdof30z1_dx29,80_range0,3_3500um_OSR5//vcdnet_best.npz SUCCESS!\n"
     ]
    },
    {
     "name": "stdout",
     "output_type": "stream",
     "text": [
      "time elapsed (sess.run): 8.4644s \n",
      "time elapsed (sess.run): 5.8901s \n",
      "recon time elapsed (sess.run): 14.3544s \n",
      "saving results ... \n",
      "IO time elapsed (imwrite): 0.9640s \n"
     ]
    }
   ],
   "source": [
    "ckpt = 0\n",
    "batch_size = 1\n",
    "use_cpu = 1                                             \n",
    "infer(ckpt, batch_size=batch_size, use_cpu=use_cpu)\n",
    "# restore np.load for future normal usage\n",
    "np.load = np_load_old"
   ]
  },
  {
   "cell_type": "code",
   "execution_count": 3,
   "metadata": {},
   "outputs": [
    {
     "data": {
      "application/json": {
       "cell": {
        "!": "OSMagics",
        "HTML": "Other",
        "SVG": "Other",
        "bash": "Other",
        "capture": "ExecutionMagics",
        "cmd": "Other",
        "debug": "ExecutionMagics",
        "file": "Other",
        "html": "DisplayMagics",
        "javascript": "DisplayMagics",
        "js": "DisplayMagics",
        "latex": "DisplayMagics",
        "perl": "Other",
        "prun": "ExecutionMagics",
        "pypy": "Other",
        "python": "Other",
        "python2": "Other",
        "python3": "Other",
        "ruby": "Other",
        "script": "ScriptMagics",
        "sh": "Other",
        "svg": "DisplayMagics",
        "sx": "OSMagics",
        "system": "OSMagics",
        "time": "ExecutionMagics",
        "timeit": "ExecutionMagics",
        "writefile": "OSMagics"
       },
       "line": {
        "alias": "OSMagics",
        "alias_magic": "BasicMagics",
        "autocall": "AutoMagics",
        "automagic": "AutoMagics",
        "autosave": "KernelMagics",
        "bookmark": "OSMagics",
        "cd": "OSMagics",
        "clear": "KernelMagics",
        "cls": "KernelMagics",
        "colors": "BasicMagics",
        "config": "ConfigMagics",
        "connect_info": "KernelMagics",
        "copy": "Other",
        "ddir": "Other",
        "debug": "ExecutionMagics",
        "dhist": "OSMagics",
        "dirs": "OSMagics",
        "doctest_mode": "BasicMagics",
        "echo": "Other",
        "ed": "Other",
        "edit": "KernelMagics",
        "env": "OSMagics",
        "gui": "BasicMagics",
        "hist": "Other",
        "history": "HistoryMagics",
        "killbgscripts": "ScriptMagics",
        "ldir": "Other",
        "less": "KernelMagics",
        "load": "CodeMagics",
        "load_ext": "ExtensionMagics",
        "loadpy": "CodeMagics",
        "logoff": "LoggingMagics",
        "logon": "LoggingMagics",
        "logstart": "LoggingMagics",
        "logstate": "LoggingMagics",
        "logstop": "LoggingMagics",
        "ls": "Other",
        "lsmagic": "BasicMagics",
        "macro": "ExecutionMagics",
        "magic": "BasicMagics",
        "matplotlib": "PylabMagics",
        "mkdir": "Other",
        "more": "KernelMagics",
        "notebook": "BasicMagics",
        "page": "BasicMagics",
        "pastebin": "CodeMagics",
        "pdb": "ExecutionMagics",
        "pdef": "NamespaceMagics",
        "pdoc": "NamespaceMagics",
        "pfile": "NamespaceMagics",
        "pinfo": "NamespaceMagics",
        "pinfo2": "NamespaceMagics",
        "popd": "OSMagics",
        "pprint": "BasicMagics",
        "precision": "BasicMagics",
        "profile": "BasicMagics",
        "prun": "ExecutionMagics",
        "psearch": "NamespaceMagics",
        "psource": "NamespaceMagics",
        "pushd": "OSMagics",
        "pwd": "OSMagics",
        "pycat": "OSMagics",
        "pylab": "PylabMagics",
        "qtconsole": "KernelMagics",
        "quickref": "BasicMagics",
        "recall": "HistoryMagics",
        "rehashx": "OSMagics",
        "reload_ext": "ExtensionMagics",
        "ren": "Other",
        "rep": "Other",
        "rerun": "HistoryMagics",
        "reset": "NamespaceMagics",
        "reset_selective": "NamespaceMagics",
        "rmdir": "Other",
        "run": "ExecutionMagics",
        "save": "CodeMagics",
        "sc": "OSMagics",
        "set_env": "OSMagics",
        "store": "StoreMagics",
        "sx": "OSMagics",
        "system": "OSMagics",
        "tb": "ExecutionMagics",
        "time": "ExecutionMagics",
        "timeit": "ExecutionMagics",
        "unalias": "OSMagics",
        "unload_ext": "ExtensionMagics",
        "who": "NamespaceMagics",
        "who_ls": "NamespaceMagics",
        "whos": "NamespaceMagics",
        "xdel": "NamespaceMagics",
        "xmode": "BasicMagics"
       }
      },
      "text/plain": [
       "Available line magics:\n",
       "%alias  %alias_magic  %autocall  %automagic  %autosave  %bookmark  %cd  %clear  %cls  %colors  %config  %connect_info  %copy  %ddir  %debug  %dhist  %dirs  %doctest_mode  %echo  %ed  %edit  %env  %gui  %hist  %history  %killbgscripts  %ldir  %less  %load  %load_ext  %loadpy  %logoff  %logon  %logstart  %logstate  %logstop  %ls  %lsmagic  %macro  %magic  %matplotlib  %mkdir  %more  %notebook  %page  %pastebin  %pdb  %pdef  %pdoc  %pfile  %pinfo  %pinfo2  %popd  %pprint  %precision  %profile  %prun  %psearch  %psource  %pushd  %pwd  %pycat  %pylab  %qtconsole  %quickref  %recall  %rehashx  %reload_ext  %ren  %rep  %rerun  %reset  %reset_selective  %rmdir  %run  %save  %sc  %set_env  %store  %sx  %system  %tb  %time  %timeit  %unalias  %unload_ext  %who  %who_ls  %whos  %xdel  %xmode\n",
       "\n",
       "Available cell magics:\n",
       "%%!  %%HTML  %%SVG  %%bash  %%capture  %%cmd  %%debug  %%file  %%html  %%javascript  %%js  %%latex  %%perl  %%prun  %%pypy  %%python  %%python2  %%python3  %%ruby  %%script  %%sh  %%svg  %%sx  %%system  %%time  %%timeit  %%writefile\n",
       "\n",
       "Automagic is ON, % prefix IS NOT needed for line magics."
      ]
     },
     "execution_count": 3,
     "metadata": {},
     "output_type": "execute_result"
    }
   ],
   "source": [
    "%lsmagic"
   ]
  },
  {
   "cell_type": "code",
   "execution_count": null,
   "metadata": {},
   "outputs": [],
   "source": []
  }
 ],
 "metadata": {
  "kernelspec": {
   "display_name": "Python 3",
   "language": "python",
   "name": "python3"
  },
  "language_info": {
   "codemirror_mode": {
    "name": "ipython",
    "version": 3
   },
   "file_extension": ".py",
   "mimetype": "text/x-python",
   "name": "python",
   "nbconvert_exporter": "python",
   "pygments_lexer": "ipython3",
   "version": "3.8.5"
  }
 },
 "nbformat": 4,
 "nbformat_minor": 5
}
